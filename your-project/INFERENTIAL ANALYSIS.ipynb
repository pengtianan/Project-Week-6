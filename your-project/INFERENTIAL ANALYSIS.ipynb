{
 "cells": [
  {
   "cell_type": "code",
   "execution_count": 16,
   "metadata": {},
   "outputs": [],
   "source": [
    "import scipy\n",
    "import math\n",
    "import pandas as pd\n",
    "import numpy as np\n",
    "from scipy import stats\n",
    "import matplotlib.pyplot as plt\n",
    "from scipy.stats import ttest_1samp\n",
    "from scipy.stats import poisson\n",
    "from scipy.stats import chi2_contingency\n",
    "from scipy.stats import ttest_1samp, ttest_rel, ttest_ind\n",
    "pd.set_option('max_columns', 50)"
   ]
  },
  {
   "cell_type": "markdown",
   "metadata": {},
   "source": [
    "### Load the dataset\n",
    "\n",
    "Load the cleaned dataset."
   ]
  },
  {
   "cell_type": "code",
   "execution_count": 17,
   "metadata": {},
   "outputs": [],
   "source": [
    "rent = pd.read_csv(\"rent_clean.csv\")\n",
    "rent.drop(columns=\"Unnamed: 0\",inplace=True)\n",
    "airbnb = pd.read_csv(\"airbnb_final.csv\")\n",
    "airbnb.drop(columns=\"Unnamed: 0\",inplace=True)"
   ]
  },
  {
   "cell_type": "markdown",
   "metadata": {},
   "source": [
    "Let's have a quick look at the dataframe"
   ]
  },
  {
   "cell_type": "code",
   "execution_count": 18,
   "metadata": {},
   "outputs": [
    {
     "data": {
      "text/html": [
       "<div>\n",
       "<style scoped>\n",
       "    .dataframe tbody tr th:only-of-type {\n",
       "        vertical-align: middle;\n",
       "    }\n",
       "\n",
       "    .dataframe tbody tr th {\n",
       "        vertical-align: top;\n",
       "    }\n",
       "\n",
       "    .dataframe thead th {\n",
       "        text-align: right;\n",
       "    }\n",
       "</style>\n",
       "<table border=\"1\" class=\"dataframe\">\n",
       "  <thead>\n",
       "    <tr style=\"text-align: right;\">\n",
       "      <th></th>\n",
       "      <th>Zone</th>\n",
       "      <th>Rent</th>\n",
       "      <th>Area</th>\n",
       "      <th>Yearly rent</th>\n",
       "      <th>Number of bedrooms</th>\n",
       "    </tr>\n",
       "  </thead>\n",
       "  <tbody>\n",
       "    <tr>\n",
       "      <td>0</td>\n",
       "      <td>1</td>\n",
       "      <td>564.0</td>\n",
       "      <td>56.0</td>\n",
       "      <td>6768.0</td>\n",
       "      <td>1</td>\n",
       "    </tr>\n",
       "  </tbody>\n",
       "</table>\n",
       "</div>"
      ],
      "text/plain": [
       "   Zone   Rent  Area  Yearly rent Number of bedrooms\n",
       "0     1  564.0  56.0       6768.0                  1"
      ]
     },
     "execution_count": 18,
     "metadata": {},
     "output_type": "execute_result"
    }
   ],
   "source": [
    "rent.head(1)"
   ]
  },
  {
   "cell_type": "code",
   "execution_count": 19,
   "metadata": {},
   "outputs": [
    {
     "data": {
      "text/html": [
       "<div>\n",
       "<style scoped>\n",
       "    .dataframe tbody tr th:only-of-type {\n",
       "        vertical-align: middle;\n",
       "    }\n",
       "\n",
       "    .dataframe tbody tr th {\n",
       "        vertical-align: top;\n",
       "    }\n",
       "\n",
       "    .dataframe thead th {\n",
       "        text-align: right;\n",
       "    }\n",
       "</style>\n",
       "<table border=\"1\" class=\"dataframe\">\n",
       "  <thead>\n",
       "    <tr style=\"text-align: right;\">\n",
       "      <th></th>\n",
       "      <th>id</th>\n",
       "      <th>host_id</th>\n",
       "      <th>room_type</th>\n",
       "      <th>bedrooms</th>\n",
       "      <th>price</th>\n",
       "      <th>count of reviews</th>\n",
       "      <th>days of occupancy</th>\n",
       "      <th>Yearly income</th>\n",
       "      <th>Zone</th>\n",
       "      <th>latitude</th>\n",
       "      <th>longitude</th>\n",
       "      <th>geometry</th>\n",
       "    </tr>\n",
       "  </thead>\n",
       "  <tbody>\n",
       "    <tr>\n",
       "      <td>0</td>\n",
       "      <td>317273</td>\n",
       "      <td>1156398</td>\n",
       "      <td>Entire home/apt</td>\n",
       "      <td>1</td>\n",
       "      <td>155</td>\n",
       "      <td>7</td>\n",
       "      <td>42</td>\n",
       "      <td>6510</td>\n",
       "      <td>1</td>\n",
       "      <td>44.84734</td>\n",
       "      <td>-0.58034</td>\n",
       "      <td>POINT (-0.58034 44.84734)</td>\n",
       "    </tr>\n",
       "  </tbody>\n",
       "</table>\n",
       "</div>"
      ],
      "text/plain": [
       "       id  host_id        room_type bedrooms  price  count of reviews  \\\n",
       "0  317273  1156398  Entire home/apt        1    155                 7   \n",
       "\n",
       "   days of occupancy  Yearly income  Zone  latitude  longitude  \\\n",
       "0                 42           6510     1  44.84734   -0.58034   \n",
       "\n",
       "                    geometry  \n",
       "0  POINT (-0.58034 44.84734)  "
      ]
     },
     "execution_count": 19,
     "metadata": {},
     "output_type": "execute_result"
    }
   ],
   "source": [
    "airbnb.head(1)"
   ]
  },
  {
   "cell_type": "markdown",
   "metadata": {},
   "source": [
    "# Question 1: Calcute a confidence interval as to how much income a potential investor can expect by renting an appartment on Airbnb?\n",
    "\n",
    "A real-estate owner has several 1-bedroom appartments (the most common type of appartments in our data) and is contemplating switching from renting monthly to list them on Airbnb.\n",
    "\n",
    "\n",
    "**Please calculate a confidence interval with a degree of confidence of 90%**"
   ]
  },
  {
   "cell_type": "code",
   "execution_count": 20,
   "metadata": {},
   "outputs": [
    {
     "data": {
      "text/plain": [
       "count     1476.000000\n",
       "mean      6558.769648\n",
       "std       5460.221302\n",
       "min        624.000000\n",
       "25%       2880.000000\n",
       "50%       4848.000000\n",
       "75%       8640.000000\n",
       "max      64800.000000\n",
       "Name: Yearly income, dtype: float64"
      ]
     },
     "execution_count": 20,
     "metadata": {},
     "output_type": "execute_result"
    }
   ],
   "source": [
    "air_1b = airbnb[\"Yearly income\"].loc[airbnb[\"bedrooms\"]=='1']\n",
    "air_1b.describe()\n",
    "#mean 6558.769647696477"
   ]
  },
  {
   "cell_type": "code",
   "execution_count": 21,
   "metadata": {},
   "outputs": [
    {
     "data": {
      "text/plain": [
       "(6324.996662297841, 6792.542633095112)"
      ]
     },
     "execution_count": 21,
     "metadata": {},
     "output_type": "execute_result"
    }
   ],
   "source": [
    "\n",
    "\n",
    "mu, sigma = np.mean(air_1b), air_1b.std()\n",
    "se= sigma/math.sqrt(len(air_1b))\n",
    "conf_int = stats.norm.interval(0.90, loc=mu, \n",
    "    scale=se)\n",
    "conf_int"
   ]
  },
  {
   "cell_type": "markdown",
   "metadata": {},
   "source": [
    "# Question 2: Goodness of fit\n",
    "\n",
    "The distribution of incomes of airbnb and rented appartment seem to follow a Poisson distribution.\n",
    "\n",
    "\n",
    "**Please check for the goodness of fit for both*"
   ]
  },
  {
   "cell_type": "code",
   "execution_count": 22,
   "metadata": {},
   "outputs": [
    {
     "data": {
      "text/html": [
       "<div>\n",
       "<style scoped>\n",
       "    .dataframe tbody tr th:only-of-type {\n",
       "        vertical-align: middle;\n",
       "    }\n",
       "\n",
       "    .dataframe tbody tr th {\n",
       "        vertical-align: top;\n",
       "    }\n",
       "\n",
       "    .dataframe thead th {\n",
       "        text-align: right;\n",
       "    }\n",
       "</style>\n",
       "<table border=\"1\" class=\"dataframe\">\n",
       "  <thead>\n",
       "    <tr style=\"text-align: right;\">\n",
       "      <th></th>\n",
       "      <th>Unnamed: 0</th>\n",
       "      <th>id</th>\n",
       "      <th>host_id</th>\n",
       "      <th>room_type</th>\n",
       "      <th>bedrooms</th>\n",
       "      <th>price</th>\n",
       "      <th>count of reviews</th>\n",
       "      <th>days of occupancy</th>\n",
       "      <th>Yearly income</th>\n",
       "      <th>Zone</th>\n",
       "      <th>latitude</th>\n",
       "      <th>longitude</th>\n",
       "      <th>geometry</th>\n",
       "      <th>Rent</th>\n",
       "      <th>Area</th>\n",
       "      <th>Yearly rent</th>\n",
       "    </tr>\n",
       "  </thead>\n",
       "  <tbody>\n",
       "    <tr>\n",
       "      <td>0</td>\n",
       "      <td>0</td>\n",
       "      <td>317273.0</td>\n",
       "      <td>1156398.0</td>\n",
       "      <td>Entire home/apt</td>\n",
       "      <td>1</td>\n",
       "      <td>155.0</td>\n",
       "      <td>7.0</td>\n",
       "      <td>42.0</td>\n",
       "      <td>6510.0</td>\n",
       "      <td>1</td>\n",
       "      <td>44.84734</td>\n",
       "      <td>-0.58034</td>\n",
       "      <td>POINT (-0.58034 44.84734)</td>\n",
       "      <td>NaN</td>\n",
       "      <td>NaN</td>\n",
       "      <td>NaN</td>\n",
       "    </tr>\n",
       "  </tbody>\n",
       "</table>\n",
       "</div>"
      ],
      "text/plain": [
       "   Unnamed: 0        id    host_id        room_type bedrooms  price  \\\n",
       "0           0  317273.0  1156398.0  Entire home/apt        1  155.0   \n",
       "\n",
       "   count of reviews  days of occupancy  Yearly income  Zone  latitude  \\\n",
       "0               7.0               42.0         6510.0     1  44.84734   \n",
       "\n",
       "   longitude                   geometry  Rent  Area  Yearly rent  \n",
       "0   -0.58034  POINT (-0.58034 44.84734)   NaN   NaN          NaN  "
      ]
     },
     "execution_count": 22,
     "metadata": {},
     "output_type": "execute_result"
    }
   ],
   "source": [
    "con = pd.read_csv(\"concatted.csv\")\n",
    "con.head(1)"
   ]
  },
  {
   "cell_type": "code",
   "execution_count": 23,
   "metadata": {},
   "outputs": [
    {
     "name": "stdout",
     "output_type": "stream",
     "text": [
      "2373\n",
      "904\n",
      "RangeIndex(start=0, stop=904, step=1)\n"
     ]
    }
   ],
   "source": [
    "#we need the mean sample for both samples (airbnb and rent)\n",
    "mu = airbnb[\"Yearly income\"].mean() #8292..\n",
    "mu2 = rent[\"Yearly rent\"].mean() #7718\n",
    "print(airbnb[\"Yearly income\"].shape[0])\n",
    "print(rent[\"Yearly rent\"].shape[0])\n",
    "print(rent[\"Yearly rent\"].index)"
   ]
  },
  {
   "cell_type": "code",
   "execution_count": null,
   "metadata": {},
   "outputs": [],
   "source": []
  },
  {
   "cell_type": "code",
   "execution_count": 24,
   "metadata": {},
   "outputs": [
    {
     "data": {
      "text/plain": [
       "Power_divergenceResult(statistic=inf, pvalue=0.0)"
      ]
     },
     "execution_count": 24,
     "metadata": {},
     "output_type": "execute_result"
    }
   ],
   "source": [
    "#Airbnb\n",
    "observed = airbnb[\"Yearly income\"]\n",
    "proba = [stats.poisson.pmf(k,mu = mu) for k in range(len(observed) - 1)]\n",
    "proba.append(1 - sum(proba))\n",
    "\n",
    "expected = [p * sum(observed) for p in proba]\n",
    "\n",
    "\n",
    "stats.chisquare(observed, f_exp=expected)\n",
    "\n"
   ]
  },
  {
   "cell_type": "code",
   "execution_count": 25,
   "metadata": {},
   "outputs": [
    {
     "data": {
      "text/plain": [
       "Power_divergenceResult(statistic=inf, pvalue=0.0)"
      ]
     },
     "execution_count": 25,
     "metadata": {},
     "output_type": "execute_result"
    }
   ],
   "source": [
    "observed = airbnb[\"Yearly income\"]\n",
    "proba = [stats.norm.pdf(k,loc = mu,scale=scipy.stats.sem(observed)) for k in range(len(observed) - 1)]\n",
    "proba.append(1 - sum(proba))\n",
    "\n",
    "expected = [p * sum(observed) for p in proba]\n",
    "\n",
    "\n",
    "stats.chisquare(observed, f_exp=expected)"
   ]
  },
  {
   "cell_type": "code",
   "execution_count": 26,
   "metadata": {},
   "outputs": [
    {
     "data": {
      "text/plain": [
       "Power_divergenceResult(statistic=inf, pvalue=0.0)"
      ]
     },
     "execution_count": 26,
     "metadata": {},
     "output_type": "execute_result"
    }
   ],
   "source": [
    "#Rent\n",
    "\n",
    "observed1 = rent[\"Yearly rent\"]\n",
    "proba1 = [stats.poisson.pmf(k,mu = mu2) for k in range(len(observed1) - 1)]\n",
    "proba1.append(1 - sum(proba1))\n",
    "\n",
    "expected1 = [p * sum(observed1) for p in proba1]\n",
    "\n",
    "\n",
    "stats.chisquare(observed1, f_exp=expected1)"
   ]
  },
  {
   "cell_type": "code",
   "execution_count": 27,
   "metadata": {},
   "outputs": [
    {
     "data": {
      "text/plain": [
       "Power_divergenceResult(statistic=inf, pvalue=0.0)"
      ]
     },
     "execution_count": 27,
     "metadata": {},
     "output_type": "execute_result"
    }
   ],
   "source": [
    "observed1 = rent[\"Yearly rent\"]\n",
    "proba1 = [stats.norm.pdf(k,loc = mu,scale=scipy.stats.sem(observed1)) for k in range(len(observed1) - 1)]\n",
    "proba1.append(1 - sum(proba1))\n",
    "\n",
    "expected1 = [p * sum(observed1) for p in proba1]\n",
    "\n",
    "\n",
    "stats.chisquare(observed1, f_exp=expected1)"
   ]
  },
  {
   "cell_type": "code",
   "execution_count": 28,
   "metadata": {},
   "outputs": [],
   "source": [
    "#There is no goodness of fit with Poisson or normal for our distributions"
   ]
  },
  {
   "cell_type": "markdown",
   "metadata": {},
   "source": [
    "# Question 3: calculate the probability of an expected income\n",
    "\n",
    "A real estate owner is contemplating switching his 1 bedroom appartment in zone 2 from monthly renting to airbnb listing. However, this would include some extra costs and organisations. Therefore, he is only considering switching if he can expect to make an axtra 3000E per year. He currently rents his appartment at the market price (average rent for this appartment in that zone.\n",
    "\n",
    "\n",
    "**Please calculate a t_test_rel and the cdf in order to give a probability of reaching an extra 3000 per year*"
   ]
  },
  {
   "cell_type": "code",
   "execution_count": 32,
   "metadata": {},
   "outputs": [
    {
     "data": {
      "text/plain": [
       "Zone                    int64\n",
       "Rent                  float64\n",
       "Area                  float64\n",
       "Yearly rent           float64\n",
       "Number of bedrooms     object\n",
       "dtype: object"
      ]
     },
     "execution_count": 32,
     "metadata": {},
     "output_type": "execute_result"
    }
   ],
   "source": [
    "#Ho\n",
    "rent.dtypes"
   ]
  },
  {
   "cell_type": "code",
   "execution_count": 45,
   "metadata": {},
   "outputs": [
    {
     "data": {
      "text/plain": [
       "1705     3000\n",
       "54      23040\n",
       "527      1536\n",
       "929      4950\n",
       "1725     6942\n",
       "        ...  \n",
       "1563     4992\n",
       "1517     5202\n",
       "1929     7800\n",
       "659      5700\n",
       "209     64800\n",
       "Name: Yearly income, Length: 77, dtype: int64"
      ]
     },
     "execution_count": 45,
     "metadata": {},
     "output_type": "execute_result"
    }
   ],
   "source": [
    "a=airbnb[\"Yearly income\"].loc[(airbnb[\"Zone\"]==2)&(airbnb[\"bedrooms\"]=='1')]\n",
    "b=rent[\"Yearly rent\"].loc[(rent[\"Zone\"]==2)&(rent[\"Number of bedrooms\"]=='1')]\n",
    "len(b)\n",
    "a2=a.sample(n=77)\n",
    "a2"
   ]
  },
  {
   "cell_type": "code",
   "execution_count": 46,
   "metadata": {},
   "outputs": [
    {
     "data": {
      "text/plain": [
       "Ttest_relResult(statistic=1.0201726671711338, pvalue=0.3108831216830079)"
      ]
     },
     "execution_count": 46,
     "metadata": {},
     "output_type": "execute_result"
    }
   ],
   "source": [
    "scipy.stats.ttest_rel(a2, b)"
   ]
  },
  {
   "cell_type": "code",
   "execution_count": null,
   "metadata": {},
   "outputs": [],
   "source": [
    "#cannot reject.."
   ]
  },
  {
   "cell_type": "code",
   "execution_count": 48,
   "metadata": {},
   "outputs": [],
   "source": [
    "se =stats.sem(a)"
   ]
  },
  {
   "cell_type": "code",
   "execution_count": 52,
   "metadata": {},
   "outputs": [],
   "source": [
    "prob =stats.norm.cdf(a,loc=0,scale=se)"
   ]
  },
  {
   "cell_type": "code",
   "execution_count": 53,
   "metadata": {},
   "outputs": [
    {
     "data": {
      "text/plain": [
       "array([5.82689162e-040, 4.52557907e-030, 9.99999283e-001, 1.00000000e+000,\n",
       "       1.00000000e+000, 2.41036096e-048, 2.42779756e-001, 2.20643685e-014,\n",
       "       9.99999998e-001, 1.00000000e+000, 2.01919964e-034, 1.00000000e+000,\n",
       "       6.26555884e-073, 1.00000000e+000, 9.67454207e-027, 2.42779756e-001,\n",
       "       9.99951339e-001, 1.11457144e-007, 1.00000000e+000, 6.26555884e-073,\n",
       "       7.30835905e-001, 1.00000000e+000, 2.09387869e-032, 7.30835905e-001,\n",
       "       2.96131181e-094, 2.09387869e-032, 1.35124431e-001, 1.80996754e-078,\n",
       "       1.35906805e-004, 3.95838826e-100, 1.00000000e+000, 1.00000000e+000,\n",
       "       1.00000000e+000, 7.30835905e-001, 7.23588970e-085, 1.00000000e+000,\n",
       "       1.28646167e-031, 1.00000000e+000, 4.32655183e-003, 8.64788527e-004,\n",
       "       1.22836634e-095, 9.99989359e-001, 1.26834466e-106, 9.99999780e-001,\n",
       "       2.92438202e-010, 4.75660012e-044, 2.18829794e-074, 4.75130099e-083,\n",
       "       4.83638832e-001, 1.85597309e-045, 1.28591592e-023, 2.41036096e-048,\n",
       "       8.79073225e-002, 2.73980317e-026, 2.69953212e-022, 1.92940376e-066,\n",
       "       2.87182571e-101, 9.40995396e-075, 1.24199273e-089, 1.00000000e+000,\n",
       "       1.00627239e-032, 5.37421901e-099, 9.99951339e-001, 8.47073358e-009,\n",
       "       2.72966228e-104, 3.53199343e-070, 1.15614749e-042, 1.28646167e-031,\n",
       "       9.99999982e-001, 4.59792274e-059, 1.99185625e-011, 1.85597309e-045,\n",
       "       9.99999998e-001, 1.00000000e+000, 6.33882543e-037, 7.30835905e-001,\n",
       "       6.45165940e-062, 1.00160266e-104, 2.41036096e-048, 1.00000000e+000,\n",
       "       3.21039137e-077, 2.37616192e-037, 1.00000000e+000, 1.00000000e+000,\n",
       "       2.32583806e-095, 1.34509670e-067, 1.00000000e+000, 5.72731871e-087,\n",
       "       4.83088072e-008, 9.00072484e-001, 1.33324357e-079, 1.00000000e+000,\n",
       "       3.83243351e-003, 7.23588970e-085, 1.44926078e-028, 1.00000000e+000,\n",
       "       1.00000000e+000, 6.86806914e-047, 1.35131888e-020, 1.52546743e-001,\n",
       "       1.00000000e+000, 4.76897154e-028, 3.19319225e-007, 1.47932127e-057,\n",
       "       1.00000000e+000, 1.00000000e+000, 1.60337666e-091, 2.68865841e-070,\n",
       "       6.39739809e-063, 1.38598482e-043, 3.24221234e-084, 2.41036096e-048,\n",
       "       9.99999995e-001, 2.47973062e-096, 3.36084143e-058, 1.01546157e-078,\n",
       "       1.00000000e+000, 4.83088072e-008, 4.43213204e-036, 1.61131038e-006,\n",
       "       1.00000000e+000, 1.20823761e-038, 1.92051262e-013, 1.11457144e-007,\n",
       "       8.22487178e-061, 1.35457450e-009, 7.91746223e-028, 1.92051262e-013,\n",
       "       1.00000000e+000, 5.69439955e-022, 1.01913788e-077, 3.52915089e-083,\n",
       "       1.00000000e+000, 5.53866593e-007, 2.79979716e-018, 1.35457450e-009,\n",
       "       7.79918837e-049, 3.21036741e-036, 1.00000000e+000, 2.09387869e-032,\n",
       "       4.52557907e-030, 1.28591592e-023, 1.96903141e-098, 1.00000000e+000,\n",
       "       1.76212717e-042, 1.75699099e-060, 1.00000000e+000, 1.07313620e-001,\n",
       "       1.00000000e+000, 1.73605216e-006, 1.00000000e+000, 1.00000000e+000,\n",
       "       2.51242143e-020, 1.59728851e-065, 5.53866593e-007, 1.44815314e-047,\n",
       "       1.40757677e-035, 1.00000000e+000, 2.41036096e-048, 3.29607999e-001,\n",
       "       9.99999961e-001, 1.60337666e-091, 1.55500147e-073, 8.22487178e-061,\n",
       "       2.41036096e-048, 7.28441139e-011, 7.86303375e-117, 2.96131181e-094,\n",
       "       9.85723214e-001, 5.82689162e-040, 1.00000000e+000, 5.72731871e-087,\n",
       "       9.46349128e-016, 8.70367264e-001, 4.83638832e-001, 5.57722133e-025,\n",
       "       1.00000000e+000, 9.12908099e-001, 2.31036385e-061, 1.35906805e-004,\n",
       "       1.00000000e+000, 2.57293732e-040, 1.00000000e+000, 1.97503931e-010,\n",
       "       1.00000000e+000, 1.69142466e-064, 7.91746223e-028, 1.01546157e-078,\n",
       "       7.08127523e-009, 1.47932127e-057, 5.43772564e-012, 2.18829794e-074,\n",
       "       6.48482922e-035, 3.69855486e-064, 1.00000000e+000, 1.21250671e-015,\n",
       "       9.99999998e-001, 8.98218843e-020, 1.98781832e-002, 9.99993458e-001,\n",
       "       1.30778584e-092, 9.40995396e-075, 7.76365992e-087, 1.28591592e-023,\n",
       "       1.61719937e-111, 1.00000000e+000, 9.99999998e-001, 3.02259229e-001,\n",
       "       1.00000000e+000, 1.00000000e+000, 1.00000000e+000, 9.40995396e-075,\n",
       "       4.43256065e-035, 1.61719937e-111, 2.16848274e-027, 9.40995396e-075,\n",
       "       1.15614749e-042, 7.58050762e-053, 4.88372253e-038, 3.83243351e-003,\n",
       "       1.00000000e+000, 7.76365992e-087, 1.97503931e-010, 2.62515557e-011,\n",
       "       1.80996754e-078, 1.28591592e-023, 1.44926078e-028, 1.00000000e+000,\n",
       "       2.17468265e-042, 1.00000000e+000, 9.21233645e-041, 1.85597309e-045,\n",
       "       1.44815314e-047, 2.41036096e-048, 2.53231092e-051, 1.60337666e-091,\n",
       "       3.57737766e-027, 4.88372253e-038, 1.00000000e+000, 2.50973083e-072,\n",
       "       3.14984242e-076, 4.17302506e-006, 2.24384991e-015, 1.97631438e-093,\n",
       "       8.98218843e-020, 1.00000000e+000, 7.95098714e-084, 1.97503931e-010,\n",
       "       1.00000000e+000, 4.83638832e-001, 1.60337666e-091, 1.19416499e-021,\n",
       "       9.97360975e-001, 3.21036741e-036, 3.60106921e-090, 1.00000000e+000,\n",
       "       1.15614749e-042, 1.19416499e-021, 7.86303375e-117, 1.00000000e+000,\n",
       "       1.61719937e-111, 3.60106921e-090, 1.73034750e-080, 1.42381897e-018,\n",
       "       1.38598482e-043, 2.49047473e-106, 2.42779756e-001, 1.20823761e-038,\n",
       "       2.72257965e-098, 2.50973083e-072, 8.47073358e-009, 2.37616192e-037,\n",
       "       1.34509670e-067, 2.79979716e-018, 1.19281863e-005, 2.81522976e-082,\n",
       "       1.24199273e-089, 3.69855486e-064, 9.99993458e-001, 8.22487178e-061,\n",
       "       7.58050762e-053, 2.31036385e-061, 3.36084143e-058, 1.19416499e-021,\n",
       "       2.05550710e-017, 1.97503931e-010, 2.44286854e-004, 4.60151411e-107,\n",
       "       2.09387869e-032, 8.02251629e-050, 1.59728851e-065, 8.47073358e-009,\n",
       "       1.55500147e-073, 2.47973062e-096, 2.49047473e-106, 3.24221234e-084,\n",
       "       1.42896988e-041, 1.00000000e+000, 1.00000000e+000, 5.53866593e-007,\n",
       "       1.85597309e-045, 2.81522976e-082, 1.21250671e-015, 1.83129708e-029,\n",
       "       2.50973083e-072, 7.86303375e-117, 2.19097051e-091, 2.50973083e-072,\n",
       "       1.12664586e-013, 2.70301903e-065, 2.70301903e-065, 2.17053666e-085,\n",
       "       1.47932127e-057, 9.40995396e-075, 2.50973083e-072, 1.83129708e-029,\n",
       "       5.31951140e-104])"
      ]
     },
     "execution_count": 53,
     "metadata": {},
     "output_type": "execute_result"
    }
   ],
   "source": [
    "prob"
   ]
  },
  {
   "cell_type": "code",
   "execution_count": null,
   "metadata": {},
   "outputs": [],
   "source": []
  }
 ],
 "metadata": {
  "kernelspec": {
   "display_name": "Python 3",
   "language": "python",
   "name": "python3"
  },
  "language_info": {
   "codemirror_mode": {
    "name": "ipython",
    "version": 3
   },
   "file_extension": ".py",
   "mimetype": "text/x-python",
   "name": "python",
   "nbconvert_exporter": "python",
   "pygments_lexer": "ipython3",
   "version": "3.7.4"
  }
 },
 "nbformat": 4,
 "nbformat_minor": 2
}
