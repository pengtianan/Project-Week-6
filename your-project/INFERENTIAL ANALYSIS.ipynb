{
 "cells": [
  {
   "cell_type": "code",
   "execution_count": 3,
   "metadata": {},
   "outputs": [],
   "source": [
    "import scipy\n",
    "import math\n",
    "import pandas as pd\n",
    "import numpy as np\n",
    "from scipy import stats\n",
    "import matplotlib.pyplot as plt\n",
    "from scipy.stats import ttest_1samp\n",
    "from scipy.stats import poisson\n",
    "from scipy.stats import chi2_contingency\n",
    "from scipy.stats import ttest_1samp, ttest_rel, ttest_ind\n",
    "pd.set_option('max_columns', 50)"
   ]
  },
  {
   "cell_type": "markdown",
   "metadata": {},
   "source": [
    "### Load the dataset\n",
    "\n",
    "Load the cleaned dataset."
   ]
  },
  {
   "cell_type": "code",
   "execution_count": 4,
   "metadata": {},
   "outputs": [],
   "source": [
    "rent = pd.read_csv(\"rent_clean.csv\")\n",
    "rent.drop(columns=\"Unnamed: 0\",inplace=True)\n",
    "airbnb = pd.read_csv(\"airbnb_final.csv\")\n",
    "airbnb.drop(columns=\"Unnamed: 0\",inplace=True)"
   ]
  },
  {
   "cell_type": "markdown",
   "metadata": {},
   "source": [
    "Let's have a quick look at the dataframe"
   ]
  },
  {
   "cell_type": "code",
   "execution_count": 5,
   "metadata": {},
   "outputs": [
    {
     "data": {
      "text/html": [
       "<div>\n",
       "<style scoped>\n",
       "    .dataframe tbody tr th:only-of-type {\n",
       "        vertical-align: middle;\n",
       "    }\n",
       "\n",
       "    .dataframe tbody tr th {\n",
       "        vertical-align: top;\n",
       "    }\n",
       "\n",
       "    .dataframe thead th {\n",
       "        text-align: right;\n",
       "    }\n",
       "</style>\n",
       "<table border=\"1\" class=\"dataframe\">\n",
       "  <thead>\n",
       "    <tr style=\"text-align: right;\">\n",
       "      <th></th>\n",
       "      <th>Zone</th>\n",
       "      <th>Rent</th>\n",
       "      <th>Area</th>\n",
       "      <th>Yearly rent</th>\n",
       "      <th>Number of bedrooms</th>\n",
       "    </tr>\n",
       "  </thead>\n",
       "  <tbody>\n",
       "    <tr>\n",
       "      <td>0</td>\n",
       "      <td>1</td>\n",
       "      <td>564.0</td>\n",
       "      <td>56.0</td>\n",
       "      <td>6768.0</td>\n",
       "      <td>1</td>\n",
       "    </tr>\n",
       "  </tbody>\n",
       "</table>\n",
       "</div>"
      ],
      "text/plain": [
       "   Zone   Rent  Area  Yearly rent Number of bedrooms\n",
       "0     1  564.0  56.0       6768.0                  1"
      ]
     },
     "execution_count": 5,
     "metadata": {},
     "output_type": "execute_result"
    }
   ],
   "source": [
    "rent.head(1)"
   ]
  },
  {
   "cell_type": "code",
   "execution_count": 6,
   "metadata": {},
   "outputs": [
    {
     "data": {
      "text/html": [
       "<div>\n",
       "<style scoped>\n",
       "    .dataframe tbody tr th:only-of-type {\n",
       "        vertical-align: middle;\n",
       "    }\n",
       "\n",
       "    .dataframe tbody tr th {\n",
       "        vertical-align: top;\n",
       "    }\n",
       "\n",
       "    .dataframe thead th {\n",
       "        text-align: right;\n",
       "    }\n",
       "</style>\n",
       "<table border=\"1\" class=\"dataframe\">\n",
       "  <thead>\n",
       "    <tr style=\"text-align: right;\">\n",
       "      <th></th>\n",
       "      <th>id</th>\n",
       "      <th>host_id</th>\n",
       "      <th>room_type</th>\n",
       "      <th>bedrooms</th>\n",
       "      <th>price</th>\n",
       "      <th>count of reviews</th>\n",
       "      <th>days of occupancy</th>\n",
       "      <th>Yearly income</th>\n",
       "      <th>Zone</th>\n",
       "      <th>latitude</th>\n",
       "      <th>longitude</th>\n",
       "      <th>geometry</th>\n",
       "    </tr>\n",
       "  </thead>\n",
       "  <tbody>\n",
       "    <tr>\n",
       "      <td>0</td>\n",
       "      <td>317273</td>\n",
       "      <td>1156398</td>\n",
       "      <td>Entire home/apt</td>\n",
       "      <td>1</td>\n",
       "      <td>155</td>\n",
       "      <td>7</td>\n",
       "      <td>42</td>\n",
       "      <td>6510</td>\n",
       "      <td>1</td>\n",
       "      <td>44.84734</td>\n",
       "      <td>-0.58034</td>\n",
       "      <td>POINT (-0.58034 44.84734)</td>\n",
       "    </tr>\n",
       "  </tbody>\n",
       "</table>\n",
       "</div>"
      ],
      "text/plain": [
       "       id  host_id        room_type bedrooms  price  count of reviews  \\\n",
       "0  317273  1156398  Entire home/apt        1    155                 7   \n",
       "\n",
       "   days of occupancy  Yearly income  Zone  latitude  longitude  \\\n",
       "0                 42           6510     1  44.84734   -0.58034   \n",
       "\n",
       "                    geometry  \n",
       "0  POINT (-0.58034 44.84734)  "
      ]
     },
     "execution_count": 6,
     "metadata": {},
     "output_type": "execute_result"
    }
   ],
   "source": [
    "airbnb.head(1)"
   ]
  },
  {
   "cell_type": "markdown",
   "metadata": {},
   "source": [
    "# Question 1: Calcute a confidence interval as to how much income a potential investor can expect by renting an appartment on Airbnb?\n",
    "\n",
    "A real-estate owner has several 1-bedroom appartments (the most common type of appartments in our data) and is contemplating switching from renting monthly to list them on Airbnb.\n",
    "\n",
    "\n",
    "**Please calculate a confidence interval with a degree of confidence of 90%**"
   ]
  },
  {
   "cell_type": "code",
   "execution_count": 7,
   "metadata": {},
   "outputs": [
    {
     "data": {
      "text/plain": [
       "count     1476.000000\n",
       "mean      6558.769648\n",
       "std       5460.221302\n",
       "min        624.000000\n",
       "25%       2880.000000\n",
       "50%       4848.000000\n",
       "75%       8640.000000\n",
       "max      64800.000000\n",
       "Name: Yearly income, dtype: float64"
      ]
     },
     "execution_count": 7,
     "metadata": {},
     "output_type": "execute_result"
    }
   ],
   "source": [
    "air_1b = airbnb[\"Yearly income\"].loc[airbnb[\"bedrooms\"]=='1']\n",
    "air_1b.describe()\n",
    "#mean 6558.769647696477"
   ]
  },
  {
   "cell_type": "code",
   "execution_count": 8,
   "metadata": {},
   "outputs": [
    {
     "data": {
      "text/plain": [
       "(6324.996662297841, 6792.542633095112)"
      ]
     },
     "execution_count": 8,
     "metadata": {},
     "output_type": "execute_result"
    }
   ],
   "source": [
    "mu, sigma = np.mean(air_1b), air_1b.std()\n",
    "se= sigma/math.sqrt(len(air_1b))\n",
    "conf_int = stats.norm.interval(0.90, loc=mu, \n",
    "    scale=se)\n",
    "conf_int"
   ]
  },
  {
   "cell_type": "code",
   "execution_count": 9,
   "metadata": {},
   "outputs": [
    {
     "data": {
      "text/plain": [
       "Zone                     3.225248\n",
       "Rent                   557.254950\n",
       "Area                    50.524752\n",
       "Yearly rent           6687.059406\n",
       "Number of bedrooms            inf\n",
       "dtype: float64"
      ]
     },
     "execution_count": 9,
     "metadata": {},
     "output_type": "execute_result"
    }
   ],
   "source": [
    "rent.loc[rent[\"Number of bedrooms\"]=='1'].mean()"
   ]
  },
  {
   "cell_type": "markdown",
   "metadata": {},
   "source": [
    "We calculated a confidence interval for the landlord's appartment expected yearly income if he put in on Airbnb, with a degree of certainty of 90%. The confidence intervals is between 6324 and 6792 € per year.\n",
    "As this interval contains the average income for monthly-rented appartments (6687€), the landlord should keep things as they are now."
   ]
  },
  {
   "cell_type": "markdown",
   "metadata": {},
   "source": [
    "# Question 2: Goodness of fit\n",
    "\n",
    "The distribution of incomes of airbnb and rented appartment seem to follow a Poisson distribution.\n",
    "\n",
    "\n",
    "**Please check for the goodness of fit for both*"
   ]
  },
  {
   "cell_type": "code",
   "execution_count": 10,
   "metadata": {},
   "outputs": [
    {
     "data": {
      "text/html": [
       "<div>\n",
       "<style scoped>\n",
       "    .dataframe tbody tr th:only-of-type {\n",
       "        vertical-align: middle;\n",
       "    }\n",
       "\n",
       "    .dataframe tbody tr th {\n",
       "        vertical-align: top;\n",
       "    }\n",
       "\n",
       "    .dataframe thead th {\n",
       "        text-align: right;\n",
       "    }\n",
       "</style>\n",
       "<table border=\"1\" class=\"dataframe\">\n",
       "  <thead>\n",
       "    <tr style=\"text-align: right;\">\n",
       "      <th></th>\n",
       "      <th>Unnamed: 0</th>\n",
       "      <th>id</th>\n",
       "      <th>host_id</th>\n",
       "      <th>room_type</th>\n",
       "      <th>bedrooms</th>\n",
       "      <th>price</th>\n",
       "      <th>count of reviews</th>\n",
       "      <th>days of occupancy</th>\n",
       "      <th>Yearly income</th>\n",
       "      <th>Zone</th>\n",
       "      <th>latitude</th>\n",
       "      <th>longitude</th>\n",
       "      <th>geometry</th>\n",
       "      <th>Rent</th>\n",
       "      <th>Area</th>\n",
       "      <th>Yearly rent</th>\n",
       "    </tr>\n",
       "  </thead>\n",
       "  <tbody>\n",
       "    <tr>\n",
       "      <td>0</td>\n",
       "      <td>0</td>\n",
       "      <td>317273.0</td>\n",
       "      <td>1156398.0</td>\n",
       "      <td>Entire home/apt</td>\n",
       "      <td>1</td>\n",
       "      <td>155.0</td>\n",
       "      <td>7.0</td>\n",
       "      <td>42.0</td>\n",
       "      <td>6510.0</td>\n",
       "      <td>1</td>\n",
       "      <td>44.84734</td>\n",
       "      <td>-0.58034</td>\n",
       "      <td>POINT (-0.58034 44.84734)</td>\n",
       "      <td>NaN</td>\n",
       "      <td>NaN</td>\n",
       "      <td>NaN</td>\n",
       "    </tr>\n",
       "  </tbody>\n",
       "</table>\n",
       "</div>"
      ],
      "text/plain": [
       "   Unnamed: 0        id    host_id        room_type bedrooms  price  \\\n",
       "0           0  317273.0  1156398.0  Entire home/apt        1  155.0   \n",
       "\n",
       "   count of reviews  days of occupancy  Yearly income  Zone  latitude  \\\n",
       "0               7.0               42.0         6510.0     1  44.84734   \n",
       "\n",
       "   longitude                   geometry  Rent  Area  Yearly rent  \n",
       "0   -0.58034  POINT (-0.58034 44.84734)   NaN   NaN          NaN  "
      ]
     },
     "execution_count": 10,
     "metadata": {},
     "output_type": "execute_result"
    }
   ],
   "source": [
    "con = pd.read_csv(\"concatted.csv\")\n",
    "con.head(1)"
   ]
  },
  {
   "cell_type": "code",
   "execution_count": 11,
   "metadata": {},
   "outputs": [
    {
     "name": "stdout",
     "output_type": "stream",
     "text": [
      "2373\n",
      "904\n",
      "RangeIndex(start=0, stop=904, step=1)\n"
     ]
    }
   ],
   "source": [
    "#we need the mean sample for both samples (airbnb and rent)\n",
    "mu = airbnb[\"Yearly income\"].mean() #8292..\n",
    "mu2 = rent[\"Yearly rent\"].mean() #7718\n",
    "print(airbnb[\"Yearly income\"].shape[0])\n",
    "print(rent[\"Yearly rent\"].shape[0])\n",
    "print(rent[\"Yearly rent\"].index)"
   ]
  },
  {
   "cell_type": "code",
   "execution_count": 12,
   "metadata": {},
   "outputs": [
    {
     "name": "stderr",
     "output_type": "stream",
     "text": [
      "C:\\Users\\tvpia\\Anaconda3\\lib\\site-packages\\scipy\\stats\\stats.py:5048: RuntimeWarning: divide by zero encountered in true_divide\n",
      "  terms = (f_obs - f_exp)**2 / f_exp\n"
     ]
    },
    {
     "data": {
      "text/plain": [
       "Power_divergenceResult(statistic=inf, pvalue=0.0)"
      ]
     },
     "execution_count": 12,
     "metadata": {},
     "output_type": "execute_result"
    }
   ],
   "source": [
    "#Airbnb\n",
    "observed = airbnb[\"Yearly income\"]\n",
    "proba = [stats.poisson.pmf(k,mu = mu) for k in range(len(observed) - 1)]\n",
    "proba.append(1 - sum(proba))\n",
    "\n",
    "expected = [p * sum(observed) for p in proba]\n",
    "\n",
    "\n",
    "stats.chisquare(observed, f_exp=expected)\n",
    "\n"
   ]
  },
  {
   "cell_type": "code",
   "execution_count": 13,
   "metadata": {},
   "outputs": [
    {
     "name": "stderr",
     "output_type": "stream",
     "text": [
      "C:\\Users\\tvpia\\Anaconda3\\lib\\site-packages\\scipy\\stats\\stats.py:5048: RuntimeWarning: overflow encountered in true_divide\n",
      "  terms = (f_obs - f_exp)**2 / f_exp\n"
     ]
    },
    {
     "data": {
      "text/plain": [
       "Power_divergenceResult(statistic=inf, pvalue=0.0)"
      ]
     },
     "execution_count": 13,
     "metadata": {},
     "output_type": "execute_result"
    }
   ],
   "source": [
    "observed = airbnb[\"Yearly income\"]\n",
    "proba = [stats.norm.pdf(k,loc = mu,scale=scipy.stats.sem(observed)) for k in range(len(observed) - 1)]\n",
    "proba.append(1 - sum(proba))\n",
    "\n",
    "expected = [p * sum(observed) for p in proba]\n",
    "\n",
    "\n",
    "stats.chisquare(observed, f_exp=expected)"
   ]
  },
  {
   "cell_type": "code",
   "execution_count": 14,
   "metadata": {},
   "outputs": [
    {
     "data": {
      "text/plain": [
       "Power_divergenceResult(statistic=inf, pvalue=0.0)"
      ]
     },
     "execution_count": 14,
     "metadata": {},
     "output_type": "execute_result"
    }
   ],
   "source": [
    "#Rent\n",
    "\n",
    "observed1 = rent[\"Yearly rent\"]\n",
    "proba1 = [stats.poisson.pmf(k,mu = mu2) for k in range(len(observed1) - 1)]\n",
    "proba1.append(1 - sum(proba1))\n",
    "\n",
    "expected1 = [p * sum(observed1) for p in proba1]\n",
    "\n",
    "\n",
    "stats.chisquare(observed1, f_exp=expected1)"
   ]
  },
  {
   "cell_type": "code",
   "execution_count": 15,
   "metadata": {},
   "outputs": [
    {
     "data": {
      "text/plain": [
       "Power_divergenceResult(statistic=inf, pvalue=0.0)"
      ]
     },
     "execution_count": 15,
     "metadata": {},
     "output_type": "execute_result"
    }
   ],
   "source": [
    "observed1 = rent[\"Yearly rent\"]\n",
    "proba1 = [stats.norm.pdf(k,loc = mu,scale=scipy.stats.sem(observed1)) for k in range(len(observed1) - 1)]\n",
    "proba1.append(1 - sum(proba1))\n",
    "\n",
    "expected1 = [p * sum(observed1) for p in proba1]\n",
    "\n",
    "\n",
    "stats.chisquare(observed1, f_exp=expected1)"
   ]
  },
  {
   "cell_type": "markdown",
   "metadata": {},
   "source": [
    "There is no goodness of fit with Poisson or normal distributions for both the yearly airbnb income or the yearly rent income."
   ]
  },
  {
   "cell_type": "markdown",
   "metadata": {},
   "source": [
    "# Question 3: calculate the probability of an expected income\n",
    "\n",
    "A real estate owner is contemplating switching his 1 bedroom appartment in zone 2 from monthly renting to airbnb listing. However, this would include some extra costs and organisations. Therefore, he is only considering switching if he can expect to make an axtra 2000E per year. He currently rents his appartment at the market price (average rent for this appartment in that zone.\n",
    "\n",
    "\n",
    "**Please calculate a t_test_rel and the cdf in order to give a probability of reaching an extra 2000 per year*"
   ]
  },
  {
   "cell_type": "markdown",
   "metadata": {},
   "source": [
    "The current average yearly income for rented 1-bedroom appartments in zone 2 is 6688€ (see pivot table in exploratory data analysis). Let's consider this is the amount the landlord is currently receiving for this appartment."
   ]
  },
  {
   "cell_type": "markdown",
   "metadata": {},
   "source": [
    "Let's do some hypothesis testing.\n",
    "Ho: On average, the yearly income for airbnb and monthly rental are about the same."
   ]
  },
  {
   "cell_type": "code",
   "execution_count": 16,
   "metadata": {},
   "outputs": [
    {
     "data": {
      "text/plain": [
       "Zone                    int64\n",
       "Rent                  float64\n",
       "Area                  float64\n",
       "Yearly rent           float64\n",
       "Number of bedrooms     object\n",
       "dtype: object"
      ]
     },
     "execution_count": 16,
     "metadata": {},
     "output_type": "execute_result"
    }
   ],
   "source": [
    "rent.dtypes"
   ]
  },
  {
   "cell_type": "code",
   "execution_count": 31,
   "metadata": {},
   "outputs": [
    {
     "data": {
      "text/plain": [
       "1767    12960\n",
       "1623     5700\n",
       "1189     3600\n",
       "493      3696\n",
       "774      5742\n",
       "        ...  \n",
       "2145     4752\n",
       "659      5700\n",
       "2370     1566\n",
       "1381     2898\n",
       "815      3486\n",
       "Name: Yearly income, Length: 77, dtype: int64"
      ]
     },
     "execution_count": 31,
     "metadata": {},
     "output_type": "execute_result"
    }
   ],
   "source": [
    "a=airbnb[\"Yearly income\"].loc[(airbnb[\"Zone\"]==2)&(airbnb[\"bedrooms\"]=='1')]\n",
    "b=rent[\"Yearly rent\"].loc[(rent[\"Zone\"]==2)&(rent[\"Number of bedrooms\"]=='1')]\n",
    "len(b)\n",
    "a2=a.sample(n=77)\n",
    "a2"
   ]
  },
  {
   "cell_type": "code",
   "execution_count": 32,
   "metadata": {},
   "outputs": [
    {
     "name": "stdout",
     "output_type": "stream",
     "text": [
      "0.2793464867426043\n"
     ]
    }
   ],
   "source": [
    "stats, pval = scipy.stats.ttest_rel(a2, b)\n",
    "print(pval)"
   ]
  },
  {
   "cell_type": "markdown",
   "metadata": {},
   "source": [
    "Given the pvalue retrieved, we cannot reject the null hypothesis."
   ]
  },
  {
   "cell_type": "markdown",
   "metadata": {},
   "source": [
    "Let's calculate the probability of making an extra 2k a year by renting on AirBnb. (Reminder: we've proven that this sample doesn't fit a normal distribution."
   ]
  },
  {
   "cell_type": "markdown",
   "metadata": {},
   "source": [
    "Lets find out proportion of one-bedroom appartments in zone 2 that generate more than 8688k€ per year (that is the amount that she is currently making plus the 2k that she requires to make a change).\n"
   ]
  },
  {
   "cell_type": "code",
   "execution_count": 38,
   "metadata": {},
   "outputs": [
    {
     "data": {
      "text/plain": [
       "(317, 95)"
      ]
     },
     "execution_count": 38,
     "metadata": {},
     "output_type": "execute_result"
    }
   ],
   "source": [
    "tot_1bd_zone2=len(airbnb[\"Yearly income\"].loc[(airbnb[\"Zone\"]==2)&(airbnb[\"bedrooms\"]=='1')]) #317\n",
    "filt_appts =len(airbnb[\"Yearly income\"].loc[(airbnb[\"Zone\"]==2)&(airbnb[\"bedrooms\"]=='1')&(airbnb[\"Yearly income\"]>8688)])\n",
    "tot_1bd_zone2, filt_appts"
   ]
  },
  {
   "cell_type": "code",
   "execution_count": 41,
   "metadata": {},
   "outputs": [
    {
     "data": {
      "text/plain": [
       "0.3"
      ]
     },
     "execution_count": 41,
     "metadata": {},
     "output_type": "execute_result"
    }
   ],
   "source": [
    "prob = round((filt_appts/tot_1bd_zone2),)"
   ]
  },
  {
   "cell_type": "markdown",
   "metadata": {},
   "source": [
    "The probability for this owner to make an extra 2k a year by switching to airbnb in that zone is only 0.3"
   ]
  }
 ],
 "metadata": {
  "kernelspec": {
   "display_name": "Python 3",
   "language": "python",
   "name": "python3"
  },
  "language_info": {
   "codemirror_mode": {
    "name": "ipython",
    "version": 3
   },
   "file_extension": ".py",
   "mimetype": "text/x-python",
   "name": "python",
   "nbconvert_exporter": "python",
   "pygments_lexer": "ipython3",
   "version": "3.7.4"
  }
 },
 "nbformat": 4,
 "nbformat_minor": 2
}
